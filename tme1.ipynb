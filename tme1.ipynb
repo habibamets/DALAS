{
 "cells": [
  {
   "cell_type": "markdown",
   "metadata": {
    "id": "EOr-DwYgRsUa"
   },
   "source": [
    "# Web Scrapping in Python\n",
    "\n",
    "\n",
    "**TODO pour moi avant le TME**\n",
    "\n",
    "1.   Faire la version étudiant en enlevant les réponses. Ne garder qu'un code générique pour la carte qu'ils devront adapter\n",
    "\n",
    "\n",
    "\n",
    "The first objective of this notebook is to discover the `request` and `BeautifulSoup` libraries to crawl a table on a Wikitable page, build a dataframe, and create a map.\n",
    "\n",
    "*   `request` and [urllib](https://docs.python.org/3/library/urllib.html#module-urllib) for requestion REST API\n",
    "*   [BeautifulSoup4](https://www.crummy.com/software/BeautifulSoup/bs4/doc/) to inspect webpages\n",
    "\n",
    "Please note that this part serves as an initiation of web scrapping but you will need to learn by yourself to make the project. It is inspired from notebooks published by Galiana, Lino. 2023. Python Pour La Data Science. https://doi.org/10.5281/zenodo.8229676. Exercices target different sources of information, the code needs to be adapted.\n",
    "\n",
    "\n",
    "\n",
    "\n",
    "\n",
    "\n",
    "\n",
    "\n",
    "\n"
   ]
  },
  {
   "cell_type": "code",
   "execution_count": 1,
   "metadata": {
    "id": "E4zarSeAQdHm"
   },
   "outputs": [],
   "source": [
    "!pip install -q lxml\n",
    "\n",
    "import bs4\n",
    "import lxml\n",
    "import pandas\n",
    "import urllib\n",
    "\n",
    "from urllib import request"
   ]
  },
  {
   "cell_type": "markdown",
   "metadata": {
    "id": "t4wzROqzT36G"
   },
   "source": [
    "## Exercice 1 : Scrap a table on a wikipedia page\n",
    "\n",
    "We would like to display on a map the location of Summer Olympic Games since 1896. We will use a [Wikipedia page](https://fr.wikipedia.org/wiki/Jeux_olympiques) to scrap the associated table.\n",
    "Below is the code to extract the content of the page using `request` and display its title using `BeautifulSoup`."
   ]
  },
  {
   "cell_type": "code",
   "execution_count": 2,
   "metadata": {
    "colab": {
     "base_uri": "https://localhost:8080/"
    },
    "executionInfo": {
     "elapsed": 1025,
     "status": "ok",
     "timestamp": 1705222693795,
     "user": {
      "displayName": "Lau re",
      "userId": "03302099944040145915"
     },
     "user_tz": -60
    },
    "id": "Nl9QICzwTGG7",
    "outputId": "342c30b0-2ade-4dba-efb2-930fb307bb14"
   },
   "outputs": [
    {
     "name": "stdout",
     "output_type": "stream",
     "text": [
      "b'<!DOCTYPE html>\\n<html class=\"client-nojs vector-feature-language-in-header-enabled vector-feature-language-in-main-page-header-disabled vector-feature-page-tools-pinned-disabled vector-feature-toc-pinned-clientpref-1 vector-feature-main-menu-pinned-disabled vector-feature-limited-width-clientpref-1 vector-feature-limited-width-content-enabled vector-feature-custom-font-size-clientpref-1 vector-feature-appearance-pinned-clientpref-1 vector-feature-night-mode-enabled skin-theme-clientpref-day vector-sticky-header-enabled vector-toc-available\" lang=\"fr\" dir=\"ltr\">\\n<head>\\n<meta charset=\"UTF-8\">\\n<title>Jeux olympiques \\xe2\\x80\\x94 Wikip\\xc3\\xa9dia</title>\\n<script>(function(){var className=\"client-js vector-feature-language-in-header-enabled vector-feature-language-in-main-page-header-disabled vector-feature-page-tools-pinned-disabled vector-feature-toc-pinned-clientpref-1 vector-feature-main-menu-pinned-disabled vector-feature-limited-width-clientpref-1 vector-feature-limited-width-content-enabled vector-'\n",
      "<title>Jeux olympiques — Wikipédia</title>\n"
     ]
    }
   ],
   "source": [
    "jo = \"https://fr.wikipedia.org/wiki/Jeux_olympiques\"\n",
    "\n",
    "request_text = request.urlopen(jo).read()\n",
    "print(request_text[:1000])\n",
    "page = bs4.BeautifulSoup(request_text, \"lxml\")\n",
    "print(page.find(\"title\"))"
   ]
  },
  {
   "cell_type": "markdown",
   "metadata": {
    "id": "U_18h3E9UiYR"
   },
   "source": [
    "Our objective here is to extract the different information in the first table \"Jeux olympiques d'été\" and to build a data frame.\n",
    "\n",
    "To proceed, you will have to follow these steps:\n",
    "*   Find the table\n",
    "*   Collect each line of the table\n",
    "*   Retrieve the different columns and transform them into text format. Also, use `strip` to format the value into a proper text format (e.g., without useless spaces). Store these lines (formated as a table of columns) in a table.\n",
    "\n",
    "**Warning: We have two location for 1940. You have therefore to manage this case: identify the attribute indicating this fact and write a code to collect those lines and insert in the previous table in the right place**\n",
    "\n",
    "* Collect headers of the HTML table\n",
    "* Build a data frame from the result table and the headers\n",
    "\n",
    "\n",
    "\n",
    "\n",
    "\n",
    "\n"
   ]
  },
  {
   "cell_type": "code",
   "execution_count": 10,
   "metadata": {
    "executionInfo": {
     "elapsed": 325,
     "status": "ok",
     "timestamp": 1705775207333,
     "user": {
      "displayName": "Lau re",
      "userId": "03302099944040145915"
     },
     "user_tz": -60
    },
    "id": "M5oVOOZuKxD_"
   },
   "outputs": [
    {
     "name": "stdout",
     "output_type": "stream",
     "text": [
      "[<tr>\n",
      "<th scope=\"col\">Année\n",
      "</th>\n",
      "<th scope=\"col\">Olympiade<br/><small>(Nº de l’<a href=\"/wiki/Olympiade\" title=\"Olympiade\">olympiade</a><sup class=\"reference\" id=\"cite_ref-26\"><a href=\"#cite_note-26\"><span class=\"cite_crochet\">[</span>NB 1<span class=\"cite_crochet\">]</span></a></sup>)</small>\n",
      "</th>\n",
      "<th scope=\"col\">Ville hôte\n",
      "</th>\n",
      "<th scope=\"col\">Pays\n",
      "</th>\n",
      "<th scope=\"col\">Continent\n",
      "</th></tr>, <tr>\n",
      "<td>1896</td>\n",
      "<td align=\"center\"><a href=\"/wiki/Jeux_olympiques_de_1896\" title=\"Jeux olympiques de 1896\">I</a></td>\n",
      "<td><a href=\"/wiki/Ath%C3%A8nes\" title=\"Athènes\">Athènes</a> (1)</td>\n",
      "<td><span class=\"flagicon\"><span class=\"mw-image-border noviewer\" typeof=\"mw:File\"><a class=\"mw-file-description\" href=\"/wiki/Fichier:Flag_of_Greece_(1822-1978).svg\" title=\"Drapeau : Grèce\"><img alt=\"\" class=\"mw-file-element\" data-file-height=\"600\" data-file-width=\"900\" decoding=\"async\" height=\"13\" src=\"//upload.wikimedia.org/wikipedia/commons/thumb/6/6e/Flag_of_Greece_%281822-1978%29.svg/20px-Flag_of_Greece_%281822-1978%29.svg.png\" srcset=\"//upload.wikimedia.org/wikipedia/commons/thumb/6/6e/Flag_of_Greece_%281822-1978%29.svg/30px-Flag_of_Greece_%281822-1978%29.svg.png 1.5x, //upload.wikimedia.org/wikipedia/commons/thumb/6/6e/Flag_of_Greece_%281822-1978%29.svg/40px-Flag_of_Greece_%281822-1978%29.svg.png 2x\" width=\"20\"/></a></span></span> <a href=\"/wiki/Gr%C3%A8ce\" title=\"Grèce\">Grèce</a> (1)</td>\n",
      "<td><a href=\"/wiki/Europe\" title=\"Europe\">Europe</a> (1)\n",
      "</td></tr>, <tr bgcolor=\"#efefef\">\n",
      "<td>1900</td>\n",
      "<td align=\"center\"><a href=\"/wiki/Jeux_olympiques_de_1900\" title=\"Jeux olympiques de 1900\">II</a></td>\n",
      "<td><a href=\"/wiki/Paris\" title=\"Paris\">Paris</a> (1)</td>\n",
      "<td><span class=\"flagicon\" data-sort-value=\"\"><span class=\"mw-image-border noviewer\" typeof=\"mw:File\"><a class=\"mw-file-description\" href=\"/wiki/Fichier:Flag_of_France_(1976%E2%80%932020).svg\" title=\"Drapeau de la France\"><img alt=\"Drapeau de la France\" class=\"mw-file-element\" data-file-height=\"600\" data-file-width=\"900\" decoding=\"async\" height=\"13\" src=\"//upload.wikimedia.org/wikipedia/commons/thumb/d/d1/Flag_of_France_%281976%E2%80%932020%29.svg/20px-Flag_of_France_%281976%E2%80%932020%29.svg.png\" srcset=\"//upload.wikimedia.org/wikipedia/commons/thumb/d/d1/Flag_of_France_%281976%E2%80%932020%29.svg/30px-Flag_of_France_%281976%E2%80%932020%29.svg.png 1.5x, //upload.wikimedia.org/wikipedia/commons/thumb/d/d1/Flag_of_France_%281976%E2%80%932020%29.svg/40px-Flag_of_France_%281976%E2%80%932020%29.svg.png 2x\" width=\"20\"/></a></span></span> <a href=\"/wiki/Troisi%C3%A8me_R%C3%A9publique_(France)\" title=\"Troisième République (France)\">France</a> (1)</td>\n",
      "<td><a href=\"/wiki/Europe\" title=\"Europe\">Europe</a> (2)\n",
      "</td></tr>, <tr>\n",
      "<td>1904</td>\n",
      "<td align=\"center\"><a href=\"/wiki/Jeux_olympiques_de_1904\" title=\"Jeux olympiques de 1904\">III</a></td>\n",
      "<td><a href=\"/wiki/Saint-Louis_(Missouri)\" title=\"Saint-Louis (Missouri)\">Saint-Louis</a> (1)</td>\n",
      "<td><span class=\"flagicon\"><span class=\"mw-image-border noviewer\" typeof=\"mw:File\"><a class=\"mw-file-description\" href=\"/wiki/Fichier:Flag_of_the_United_States_(1896%E2%80%931908).svg\" title=\"Drapeau : États-Unis\"><img alt=\"\" class=\"mw-file-element\" data-file-height=\"650\" data-file-width=\"1235\" decoding=\"async\" height=\"11\" src=\"//upload.wikimedia.org/wikipedia/commons/thumb/d/d5/Flag_of_the_United_States_%281896%E2%80%931908%29.svg/20px-Flag_of_the_United_States_%281896%E2%80%931908%29.svg.png\" srcset=\"//upload.wikimedia.org/wikipedia/commons/thumb/d/d5/Flag_of_the_United_States_%281896%E2%80%931908%29.svg/30px-Flag_of_the_United_States_%281896%E2%80%931908%29.svg.png 1.5x, //upload.wikimedia.org/wikipedia/commons/thumb/d/d5/Flag_of_the_United_States_%281896%E2%80%931908%29.svg/40px-Flag_of_the_United_States_%281896%E2%80%931908%29.svg.png 2x\" width=\"20\"/></a></span></span> <a href=\"/wiki/%C3%89tats-Unis\" title=\"États-Unis\">États-Unis</a> (1)</td>\n",
      "<td><a href=\"/wiki/Am%C3%A9rique_du_Nord\" title=\"Amérique du Nord\">Amérique du Nord</a> (1)\n",
      "</td></tr>, <tr bgcolor=\"#efefef\">\n",
      "<td><i>1906</i></td>\n",
      "<td align=\"center\"><i><a href=\"/wiki/Jeux_olympiques_intercalaires_de_1906\" title=\"Jeux olympiques intercalaires de 1906\">•</a> <small>(Intercalaires<sup class=\"reference\" id=\"cite_ref-27\"><a href=\"#cite_note-27\"><span class=\"cite_crochet\">[</span>NB 2<span class=\"cite_crochet\">]</span></a></sup>)</small></i></td>\n",
      "<td><i><a href=\"/wiki/Ath%C3%A8nes\" title=\"Athènes\">Athènes</a> (2)</i></td>\n",
      "<td><span class=\"flagicon\"><span class=\"mw-image-border noviewer\" typeof=\"mw:File\"><a class=\"mw-file-description\" href=\"/wiki/Fichier:Flag_of_Greece_(1822-1978).svg\" title=\"Drapeau : Grèce\"><img alt=\"\" class=\"mw-file-element\" data-file-height=\"600\" data-file-width=\"900\" decoding=\"async\" height=\"13\" src=\"//upload.wikimedia.org/wikipedia/commons/thumb/6/6e/Flag_of_Greece_%281822-1978%29.svg/20px-Flag_of_Greece_%281822-1978%29.svg.png\" srcset=\"//upload.wikimedia.org/wikipedia/commons/thumb/6/6e/Flag_of_Greece_%281822-1978%29.svg/30px-Flag_of_Greece_%281822-1978%29.svg.png 1.5x, //upload.wikimedia.org/wikipedia/commons/thumb/6/6e/Flag_of_Greece_%281822-1978%29.svg/40px-Flag_of_Greece_%281822-1978%29.svg.png 2x\" width=\"20\"/></a></span></span> <i><a href=\"/wiki/Gr%C3%A8ce\" title=\"Grèce\">Grèce</a> (2)</i></td>\n",
      "<td><i><a href=\"/wiki/Europe\" title=\"Europe\">Europe</a></i>\n",
      "</td></tr>, <tr>\n",
      "<td>1908</td>\n",
      "<td align=\"center\"><a href=\"/wiki/Jeux_olympiques_de_1908\" title=\"Jeux olympiques de 1908\">IV</a></td>\n",
      "<td><a href=\"/wiki/Londres\" title=\"Londres\">Londres</a> (1)</td>\n",
      "<td><span class=\"flagicon\"><span class=\"mw-image-border noviewer\" typeof=\"mw:File\"><a class=\"mw-file-description\" href=\"/wiki/Fichier:Flag_of_the_United_Kingdom_(3-5).svg\" title=\"Drapeau : Royaume-Uni\"><img alt=\"\" class=\"mw-file-element\" data-file-height=\"600\" data-file-width=\"1000\" decoding=\"async\" height=\"12\" src=\"//upload.wikimedia.org/wikipedia/commons/thumb/8/83/Flag_of_the_United_Kingdom_%283-5%29.svg/20px-Flag_of_the_United_Kingdom_%283-5%29.svg.png\" srcset=\"//upload.wikimedia.org/wikipedia/commons/thumb/8/83/Flag_of_the_United_Kingdom_%283-5%29.svg/30px-Flag_of_the_United_Kingdom_%283-5%29.svg.png 1.5x, //upload.wikimedia.org/wikipedia/commons/thumb/8/83/Flag_of_the_United_Kingdom_%283-5%29.svg/40px-Flag_of_the_United_Kingdom_%283-5%29.svg.png 2x\" width=\"20\"/></a></span></span> <a href=\"/wiki/Royaume-Uni_de_Grande-Bretagne_et_d%27Irlande\" title=\"Royaume-Uni de Grande-Bretagne et d'Irlande\">Royaume-Uni</a> (1)</td>\n",
      "<td><a href=\"/wiki/Europe\" title=\"Europe\">Europe</a> (3)\n",
      "</td></tr>, <tr bgcolor=\"#efefef\">\n",
      "<td>1912</td>\n",
      "<td align=\"center\"><a href=\"/wiki/Jeux_olympiques_de_1912\" title=\"Jeux olympiques de 1912\">V</a></td>\n",
      "<td><a href=\"/wiki/Stockholm\" title=\"Stockholm\">Stockholm</a> (1)</td>\n",
      "<td><span class=\"datasortkey\" data-sort-value=\"Suède\"><span class=\"flagicon\"><span class=\"mw-image-border noviewer\" typeof=\"mw:File\"><a class=\"mw-file-description\" href=\"/wiki/Fichier:Flag_of_Sweden.svg\" title=\"Drapeau de la Suède\"><img alt=\"Drapeau de la Suède\" class=\"mw-file-element\" data-file-height=\"1000\" data-file-width=\"1600\" decoding=\"async\" height=\"13\" src=\"//upload.wikimedia.org/wikipedia/commons/thumb/4/4c/Flag_of_Sweden.svg/20px-Flag_of_Sweden.svg.png\" srcset=\"//upload.wikimedia.org/wikipedia/commons/thumb/4/4c/Flag_of_Sweden.svg/30px-Flag_of_Sweden.svg.png 1.5x, //upload.wikimedia.org/wikipedia/commons/thumb/4/4c/Flag_of_Sweden.svg/40px-Flag_of_Sweden.svg.png 2x\" width=\"20\"/></a></span> </span><a href=\"/wiki/Su%C3%A8de\" title=\"Suède\">Suède</a></span> (1)</td>\n",
      "<td><a href=\"/wiki/Europe\" title=\"Europe\">Europe</a> (4)\n",
      "</td></tr>, <tr bgcolor=\"#d4d4d4\">\n",
      "<td><i>1916</i></td>\n",
      "<td align=\"center\"><i><a href=\"/wiki/Jeux_olympiques_de_1916\" title=\"Jeux olympiques de 1916\">VI</a> <small>(annulés<sup class=\"reference\" id=\"cite_ref-28\"><a href=\"#cite_note-28\"><span class=\"cite_crochet\">[</span>NB 3<span class=\"cite_crochet\">]</span></a></sup>)</small></i></td>\n",
      "<td><i><a href=\"/wiki/Berlin\" title=\"Berlin\">Berlin</a></i></td>\n",
      "<td><span class=\"flagicon\"><span class=\"mw-image-border noviewer\" typeof=\"mw:File\"><a class=\"mw-file-description\" href=\"/wiki/Fichier:Flag_of_Germany_(1867%E2%80%931918).svg\" title=\"Drapeau : Empire allemand\"><img alt=\"\" class=\"mw-file-element\" data-file-height=\"600\" data-file-width=\"900\" decoding=\"async\" height=\"13\" src=\"//upload.wikimedia.org/wikipedia/commons/thumb/1/1f/Flag_of_Germany_%281867%E2%80%931918%29.svg/20px-Flag_of_Germany_%281867%E2%80%931918%29.svg.png\" srcset=\"//upload.wikimedia.org/wikipedia/commons/thumb/1/1f/Flag_of_Germany_%281867%E2%80%931918%29.svg/30px-Flag_of_Germany_%281867%E2%80%931918%29.svg.png 1.5x, //upload.wikimedia.org/wikipedia/commons/thumb/1/1f/Flag_of_Germany_%281867%E2%80%931918%29.svg/40px-Flag_of_Germany_%281867%E2%80%931918%29.svg.png 2x\" width=\"20\"/></a></span></span> <i><a href=\"/wiki/Empire_allemand\" title=\"Empire allemand\">Allemagne</a></i></td>\n",
      "<td><i>Europe</i>\n",
      "</td></tr>, <tr>\n",
      "<td>1920</td>\n",
      "<td align=\"center\"><a href=\"/wiki/Jeux_olympiques_de_1920\" title=\"Jeux olympiques de 1920\">VII</a></td>\n",
      "<td><a href=\"/wiki/Anvers\" title=\"Anvers\">Anvers</a> (1)</td>\n",
      "<td><span class=\"datasortkey\" data-sort-value=\"Belgique\"><span class=\"flagicon\"><span class=\"mw-image-border noviewer\" typeof=\"mw:File\"><a class=\"mw-file-description\" href=\"/wiki/Fichier:Flag_of_Belgium_(civil).svg\" title=\"Drapeau de la Belgique\"><img alt=\"Drapeau de la Belgique\" class=\"mw-file-element\" data-file-height=\"600\" data-file-width=\"900\" decoding=\"async\" height=\"13\" src=\"//upload.wikimedia.org/wikipedia/commons/thumb/9/92/Flag_of_Belgium_%28civil%29.svg/20px-Flag_of_Belgium_%28civil%29.svg.png\" srcset=\"//upload.wikimedia.org/wikipedia/commons/thumb/9/92/Flag_of_Belgium_%28civil%29.svg/30px-Flag_of_Belgium_%28civil%29.svg.png 1.5x, //upload.wikimedia.org/wikipedia/commons/thumb/9/92/Flag_of_Belgium_%28civil%29.svg/40px-Flag_of_Belgium_%28civil%29.svg.png 2x\" width=\"20\"/></a></span> </span><a href=\"/wiki/Belgique\" title=\"Belgique\">Belgique</a></span> (1)</td>\n",
      "<td><a href=\"/wiki/Europe\" title=\"Europe\">Europe</a> (5)\n",
      "</td></tr>, <tr bgcolor=\"#efefef\">\n",
      "<td>1924</td>\n",
      "<td align=\"center\"><a href=\"/wiki/Jeux_olympiques_d%27%C3%A9t%C3%A9_de_1924\" title=\"Jeux olympiques d'été de 1924\">VIII</a></td>\n",
      "<td><a href=\"/wiki/Paris\" title=\"Paris\">Paris</a> (2)</td>\n",
      "<td><span class=\"flagicon\" data-sort-value=\"\"><span class=\"mw-image-border noviewer\" typeof=\"mw:File\"><a class=\"mw-file-description\" href=\"/wiki/Fichier:Flag_of_France_(1976%E2%80%932020).svg\" title=\"Drapeau de la France\"><img alt=\"Drapeau de la France\" class=\"mw-file-element\" data-file-height=\"600\" data-file-width=\"900\" decoding=\"async\" height=\"13\" src=\"//upload.wikimedia.org/wikipedia/commons/thumb/d/d1/Flag_of_France_%281976%E2%80%932020%29.svg/20px-Flag_of_France_%281976%E2%80%932020%29.svg.png\" srcset=\"//upload.wikimedia.org/wikipedia/commons/thumb/d/d1/Flag_of_France_%281976%E2%80%932020%29.svg/30px-Flag_of_France_%281976%E2%80%932020%29.svg.png 1.5x, //upload.wikimedia.org/wikipedia/commons/thumb/d/d1/Flag_of_France_%281976%E2%80%932020%29.svg/40px-Flag_of_France_%281976%E2%80%932020%29.svg.png 2x\" width=\"20\"/></a></span></span> <a href=\"/wiki/Troisi%C3%A8me_R%C3%A9publique_(France)\" title=\"Troisième République (France)\">France</a> (2)</td>\n",
      "<td><a href=\"/wiki/Europe\" title=\"Europe\">Europe</a> (6)\n",
      "</td></tr>, <tr>\n",
      "<td>1928</td>\n",
      "<td align=\"center\"><a href=\"/wiki/Jeux_olympiques_d%27%C3%A9t%C3%A9_de_1928\" title=\"Jeux olympiques d'été de 1928\">IX</a></td>\n",
      "<td><a href=\"/wiki/Amsterdam\" title=\"Amsterdam\">Amsterdam</a> (1)</td>\n",
      "<td><span class=\"datasortkey\" data-sort-value=\"Pays bas\"><span class=\"flagicon\"><span class=\"mw-image-border noviewer\" typeof=\"mw:File\"><a class=\"mw-file-description\" href=\"/wiki/Fichier:Flag_of_the_Netherlands.svg\" title=\"Drapeau des Pays-Bas\"><img alt=\"Drapeau des Pays-Bas\" class=\"mw-file-element\" data-file-height=\"600\" data-file-width=\"900\" decoding=\"async\" height=\"13\" src=\"//upload.wikimedia.org/wikipedia/commons/thumb/2/20/Flag_of_the_Netherlands.svg/20px-Flag_of_the_Netherlands.svg.png\" srcset=\"//upload.wikimedia.org/wikipedia/commons/thumb/2/20/Flag_of_the_Netherlands.svg/30px-Flag_of_the_Netherlands.svg.png 1.5x, //upload.wikimedia.org/wikipedia/commons/thumb/2/20/Flag_of_the_Netherlands.svg/40px-Flag_of_the_Netherlands.svg.png 2x\" width=\"20\"/></a></span> </span><a href=\"/wiki/Pays-Bas\" title=\"Pays-Bas\">Pays-Bas</a></span> (1)</td>\n",
      "<td><a href=\"/wiki/Europe\" title=\"Europe\">Europe</a> (7)\n",
      "</td></tr>, <tr bgcolor=\"#efefef\">\n",
      "<td>1932</td>\n",
      "<td align=\"center\"><a href=\"/wiki/Jeux_olympiques_d%27%C3%A9t%C3%A9_de_1932\" title=\"Jeux olympiques d'été de 1932\">X</a></td>\n",
      "<td><a href=\"/wiki/Los_Angeles\" title=\"Los Angeles\">Los Angeles</a> (1)</td>\n",
      "<td><span class=\"flagicon\"><span class=\"mw-image-border noviewer\" typeof=\"mw:File\"><a class=\"mw-file-description\" href=\"/wiki/Fichier:Flag_of_the_United_States_(1912-1959).svg\" title=\"Drapeau : États-Unis\"><img alt=\"\" class=\"mw-file-element\" data-file-height=\"650\" data-file-width=\"1235\" decoding=\"async\" height=\"11\" src=\"//upload.wikimedia.org/wikipedia/commons/thumb/f/f5/Flag_of_the_United_States_%281912-1959%29.svg/20px-Flag_of_the_United_States_%281912-1959%29.svg.png\" srcset=\"//upload.wikimedia.org/wikipedia/commons/thumb/f/f5/Flag_of_the_United_States_%281912-1959%29.svg/30px-Flag_of_the_United_States_%281912-1959%29.svg.png 1.5x, //upload.wikimedia.org/wikipedia/commons/thumb/f/f5/Flag_of_the_United_States_%281912-1959%29.svg/40px-Flag_of_the_United_States_%281912-1959%29.svg.png 2x\" width=\"20\"/></a></span></span> <a href=\"/wiki/%C3%89tats-Unis\" title=\"États-Unis\">États-Unis</a> (2)</td>\n",
      "<td><a href=\"/wiki/Am%C3%A9rique_du_Nord\" title=\"Amérique du Nord\">Amérique du Nord</a> (2)\n",
      "</td></tr>, <tr>\n",
      "<td>1936</td>\n",
      "<td align=\"center\"><a href=\"/wiki/Jeux_olympiques_d%27%C3%A9t%C3%A9_de_1936\" title=\"Jeux olympiques d'été de 1936\">XI</a></td>\n",
      "<td><a href=\"/wiki/Berlin\" title=\"Berlin\">Berlin</a> (1)</td>\n",
      "<td><span class=\"flagicon\"><span class=\"mw-image-border noviewer\" typeof=\"mw:File\"><a class=\"mw-file-description\" href=\"/wiki/Fichier:Flag_of_Germany_(1935%E2%80%931945).svg\" title=\"Drapeau : Allemagne\"><img alt=\"\" class=\"mw-file-element\" data-file-height=\"600\" data-file-width=\"1000\" decoding=\"async\" height=\"12\" src=\"//upload.wikimedia.org/wikipedia/commons/thumb/7/77/Flag_of_Germany_%281935%E2%80%931945%29.svg/20px-Flag_of_Germany_%281935%E2%80%931945%29.svg.png\" srcset=\"//upload.wikimedia.org/wikipedia/commons/thumb/7/77/Flag_of_Germany_%281935%E2%80%931945%29.svg/30px-Flag_of_Germany_%281935%E2%80%931945%29.svg.png 1.5x, //upload.wikimedia.org/wikipedia/commons/thumb/7/77/Flag_of_Germany_%281935%E2%80%931945%29.svg/40px-Flag_of_Germany_%281935%E2%80%931945%29.svg.png 2x\" width=\"20\"/></a></span></span> <a href=\"/wiki/Troisi%C3%A8me_Reich\" title=\"Troisième Reich\">Allemagne</a> (1)</td>\n",
      "<td><a href=\"/wiki/Europe\" title=\"Europe\">Europe</a> (8)\n",
      "</td></tr>, <tr bgcolor=\"#d4d4d4\">\n",
      "<td rowspan=\"2\"><i>1940</i></td>\n",
      "<td align=\"center\" rowspan=\"2\"><i><a href=\"/wiki/Jeux_olympiques_d%27%C3%A9t%C3%A9_de_1940\" title=\"Jeux olympiques d'été de 1940\">XII</a> <small>(annulés<sup class=\"reference\" id=\"cite_ref-2GME_29-0\"><a href=\"#cite_note-2GME-29\"><span class=\"cite_crochet\">[</span>NB 4<span class=\"cite_crochet\">]</span></a></sup>)</small></i></td>\n",
      "<td><i><a href=\"/wiki/Tokyo\" title=\"Tokyo\">Tokyo</a></i></td>\n",
      "<td><span class=\"flagicon\" data-sort-value=\"\"><span class=\"mw-image-border noviewer\" typeof=\"mw:File\"><a class=\"mw-file-description\" href=\"/wiki/Fichier:Flag_of_Japan.svg\" title=\"Drapeau du Japon\"><img alt=\"Drapeau du Japon\" class=\"mw-file-element\" data-file-height=\"600\" data-file-width=\"900\" decoding=\"async\" height=\"13\" src=\"//upload.wikimedia.org/wikipedia/commons/thumb/9/9e/Flag_of_Japan.svg/20px-Flag_of_Japan.svg.png\" srcset=\"//upload.wikimedia.org/wikipedia/commons/thumb/9/9e/Flag_of_Japan.svg/30px-Flag_of_Japan.svg.png 1.5x, //upload.wikimedia.org/wikipedia/commons/thumb/9/9e/Flag_of_Japan.svg/40px-Flag_of_Japan.svg.png 2x\" width=\"20\"/></a></span></span> <i><a href=\"/wiki/Empire_du_Japon\" title=\"Empire du Japon\">Japon</a></i></td>\n",
      "<td><i>Asie</i>\n",
      "</td></tr>, <tr bgcolor=\"#d4d4d4\">\n",
      "<td><i><a href=\"/wiki/Helsinki\" title=\"Helsinki\">Helsinki</a></i></td>\n",
      "<td><i><span class=\"datasortkey\" data-sort-value=\"Finlande\"><span class=\"flagicon\"><span class=\"mw-image-border noviewer\" typeof=\"mw:File\"><a class=\"mw-file-description\" href=\"/wiki/Fichier:Flag_of_Finland.svg\" title=\"Drapeau de la Finlande\"><img alt=\"Drapeau de la Finlande\" class=\"mw-file-element\" data-file-height=\"1100\" data-file-width=\"1800\" decoding=\"async\" height=\"12\" src=\"//upload.wikimedia.org/wikipedia/commons/thumb/b/bc/Flag_of_Finland.svg/20px-Flag_of_Finland.svg.png\" srcset=\"//upload.wikimedia.org/wikipedia/commons/thumb/b/bc/Flag_of_Finland.svg/30px-Flag_of_Finland.svg.png 1.5x, //upload.wikimedia.org/wikipedia/commons/thumb/b/bc/Flag_of_Finland.svg/40px-Flag_of_Finland.svg.png 2x\" width=\"20\"/></a></span> </span><a href=\"/wiki/Finlande\" title=\"Finlande\">Finlande</a></span></i></td>\n",
      "<td><i>Europe</i>\n",
      "</td></tr>, <tr bgcolor=\"#d4d4d4\">\n",
      "<td><i>1944</i></td>\n",
      "<td align=\"center\"><i><a href=\"/wiki/Jeux_olympiques_d%27%C3%A9t%C3%A9_de_1944\" title=\"Jeux olympiques d'été de 1944\">XIII</a> <small>(annulés<sup class=\"reference\" id=\"cite_ref-2GME_29-1\"><a href=\"#cite_note-2GME-29\"><span class=\"cite_crochet\">[</span>NB 4<span class=\"cite_crochet\">]</span></a></sup>)</small></i></td>\n",
      "<td><i><a href=\"/wiki/Londres\" title=\"Londres\">Londres</a></i></td>\n",
      "<td><i><span class=\"datasortkey\" data-sort-value=\"Royaume uni\"><span class=\"flagicon\"><span class=\"mw-image-border noviewer\" typeof=\"mw:File\"><a class=\"mw-file-description\" href=\"/wiki/Fichier:Flag_of_the_United_Kingdom_(3-5).svg\" title=\"Drapeau du Royaume-Uni\"><img alt=\"Drapeau du Royaume-Uni\" class=\"mw-file-element\" data-file-height=\"600\" data-file-width=\"1000\" decoding=\"async\" height=\"12\" src=\"//upload.wikimedia.org/wikipedia/commons/thumb/8/83/Flag_of_the_United_Kingdom_%283-5%29.svg/20px-Flag_of_the_United_Kingdom_%283-5%29.svg.png\" srcset=\"//upload.wikimedia.org/wikipedia/commons/thumb/8/83/Flag_of_the_United_Kingdom_%283-5%29.svg/30px-Flag_of_the_United_Kingdom_%283-5%29.svg.png 1.5x, //upload.wikimedia.org/wikipedia/commons/thumb/8/83/Flag_of_the_United_Kingdom_%283-5%29.svg/40px-Flag_of_the_United_Kingdom_%283-5%29.svg.png 2x\" width=\"20\"/></a></span> </span><a href=\"/wiki/Royaume-Uni\" title=\"Royaume-Uni\">Royaume-Uni</a></span></i></td>\n",
      "<td><i>Europe</i>\n",
      "</td></tr>, <tr>\n",
      "<td>1948</td>\n",
      "<td align=\"center\"><a href=\"/wiki/Jeux_olympiques_d%27%C3%A9t%C3%A9_de_1948\" title=\"Jeux olympiques d'été de 1948\">XIV</a></td>\n",
      "<td><a href=\"/wiki/Londres\" title=\"Londres\">Londres</a> (2)</td>\n",
      "<td><span class=\"datasortkey\" data-sort-value=\"Royaume uni\"><span class=\"flagicon\"><span class=\"mw-image-border noviewer\" typeof=\"mw:File\"><a class=\"mw-file-description\" href=\"/wiki/Fichier:Flag_of_the_United_Kingdom_(3-5).svg\" title=\"Drapeau du Royaume-Uni\"><img alt=\"Drapeau du Royaume-Uni\" class=\"mw-file-element\" data-file-height=\"600\" data-file-width=\"1000\" decoding=\"async\" height=\"12\" src=\"//upload.wikimedia.org/wikipedia/commons/thumb/8/83/Flag_of_the_United_Kingdom_%283-5%29.svg/20px-Flag_of_the_United_Kingdom_%283-5%29.svg.png\" srcset=\"//upload.wikimedia.org/wikipedia/commons/thumb/8/83/Flag_of_the_United_Kingdom_%283-5%29.svg/30px-Flag_of_the_United_Kingdom_%283-5%29.svg.png 1.5x, //upload.wikimedia.org/wikipedia/commons/thumb/8/83/Flag_of_the_United_Kingdom_%283-5%29.svg/40px-Flag_of_the_United_Kingdom_%283-5%29.svg.png 2x\" width=\"20\"/></a></span> </span><a href=\"/wiki/Royaume-Uni\" title=\"Royaume-Uni\">Royaume-Uni</a></span> (2)</td>\n",
      "<td><a href=\"/wiki/Europe\" title=\"Europe\">Europe</a> (9)\n",
      "</td></tr>, <tr bgcolor=\"#efefef\">\n",
      "<td>1952</td>\n",
      "<td align=\"center\"><a href=\"/wiki/Jeux_olympiques_d%27%C3%A9t%C3%A9_de_1952\" title=\"Jeux olympiques d'été de 1952\">XV</a></td>\n",
      "<td><a href=\"/wiki/Helsinki\" title=\"Helsinki\">Helsinki</a> (1)</td>\n",
      "<td><span class=\"datasortkey\" data-sort-value=\"Finlande\"><span class=\"flagicon\"><span class=\"mw-image-border noviewer\" typeof=\"mw:File\"><a class=\"mw-file-description\" href=\"/wiki/Fichier:Flag_of_Finland.svg\" title=\"Drapeau de la Finlande\"><img alt=\"Drapeau de la Finlande\" class=\"mw-file-element\" data-file-height=\"1100\" data-file-width=\"1800\" decoding=\"async\" height=\"12\" src=\"//upload.wikimedia.org/wikipedia/commons/thumb/b/bc/Flag_of_Finland.svg/20px-Flag_of_Finland.svg.png\" srcset=\"//upload.wikimedia.org/wikipedia/commons/thumb/b/bc/Flag_of_Finland.svg/30px-Flag_of_Finland.svg.png 1.5x, //upload.wikimedia.org/wikipedia/commons/thumb/b/bc/Flag_of_Finland.svg/40px-Flag_of_Finland.svg.png 2x\" width=\"20\"/></a></span> </span><a href=\"/wiki/Finlande\" title=\"Finlande\">Finlande</a></span> (1)</td>\n",
      "<td><a href=\"/wiki/Europe\" title=\"Europe\">Europe</a> (10)\n",
      "</td></tr>, <tr>\n",
      "<td>1956</td>\n",
      "<td align=\"center\"><a href=\"/wiki/Jeux_olympiques_d%27%C3%A9t%C3%A9_de_1956\" title=\"Jeux olympiques d'été de 1956\">XVI</a></td>\n",
      "<td><a href=\"/wiki/Melbourne\" title=\"Melbourne\">Melbourne</a> (1)</td>\n",
      "<td><span class=\"datasortkey\" data-sort-value=\"Australie\"><span class=\"flagicon\"><span class=\"mw-image-border noviewer\" typeof=\"mw:File\"><a class=\"mw-file-description\" href=\"/wiki/Fichier:Flag_of_Australia.svg\" title=\"Drapeau de l'Australie\"><img alt=\"Drapeau de l'Australie\" class=\"mw-file-element\" data-file-height=\"640\" data-file-width=\"1280\" decoding=\"async\" height=\"10\" src=\"//upload.wikimedia.org/wikipedia/commons/thumb/b/b9/Flag_of_Australia.svg/20px-Flag_of_Australia.svg.png\" srcset=\"//upload.wikimedia.org/wikipedia/commons/thumb/b/b9/Flag_of_Australia.svg/30px-Flag_of_Australia.svg.png 1.5x, //upload.wikimedia.org/wikipedia/commons/thumb/b/b9/Flag_of_Australia.svg/40px-Flag_of_Australia.svg.png 2x\" width=\"20\"/></a></span> </span><a href=\"/wiki/Australie\" title=\"Australie\">Australie</a></span> (1)</td>\n",
      "<td><a href=\"/wiki/Oc%C3%A9anie\" title=\"Océanie\">Océanie</a> (1)\n",
      "</td></tr>, <tr bgcolor=\"#efefef\">\n",
      "<td>1960</td>\n",
      "<td align=\"center\"><a href=\"/wiki/Jeux_olympiques_d%27%C3%A9t%C3%A9_de_1960\" title=\"Jeux olympiques d'été de 1960\">XVII</a></td>\n",
      "<td><a href=\"/wiki/Rome\" title=\"Rome\">Rome</a> (1)</td>\n",
      "<td><span class=\"datasortkey\" data-sort-value=\"Italie\"><span class=\"flagicon\"><span class=\"mw-image-border noviewer\" typeof=\"mw:File\"><a class=\"mw-file-description\" href=\"/wiki/Fichier:Flag_of_Italy.svg\" title=\"Drapeau de l'Italie\"><img alt=\"Drapeau de l'Italie\" class=\"mw-file-element\" data-file-height=\"1000\" data-file-width=\"1500\" decoding=\"async\" height=\"13\" src=\"//upload.wikimedia.org/wikipedia/commons/thumb/0/03/Flag_of_Italy.svg/20px-Flag_of_Italy.svg.png\" srcset=\"//upload.wikimedia.org/wikipedia/commons/thumb/0/03/Flag_of_Italy.svg/30px-Flag_of_Italy.svg.png 1.5x, //upload.wikimedia.org/wikipedia/commons/thumb/0/03/Flag_of_Italy.svg/40px-Flag_of_Italy.svg.png 2x\" width=\"20\"/></a></span> </span><a href=\"/wiki/Italie\" title=\"Italie\">Italie</a></span> (1)</td>\n",
      "<td><a href=\"/wiki/Europe\" title=\"Europe\">Europe</a> (11)\n",
      "</td></tr>, <tr>\n",
      "<td>1964</td>\n",
      "<td align=\"center\"><a href=\"/wiki/Jeux_olympiques_d%27%C3%A9t%C3%A9_de_1964\" title=\"Jeux olympiques d'été de 1964\">XVIII</a></td>\n",
      "<td><a href=\"/wiki/Tokyo\" title=\"Tokyo\">Tokyo</a> (1)</td>\n",
      "<td><span class=\"datasortkey\" data-sort-value=\"Japon\"><span class=\"flagicon\"><span class=\"mw-image-border noviewer\" typeof=\"mw:File\"><a class=\"mw-file-description\" href=\"/wiki/Fichier:Flag_of_Japan.svg\" title=\"Drapeau du Japon\"><img alt=\"Drapeau du Japon\" class=\"mw-file-element\" data-file-height=\"600\" data-file-width=\"900\" decoding=\"async\" height=\"13\" src=\"//upload.wikimedia.org/wikipedia/commons/thumb/9/9e/Flag_of_Japan.svg/20px-Flag_of_Japan.svg.png\" srcset=\"//upload.wikimedia.org/wikipedia/commons/thumb/9/9e/Flag_of_Japan.svg/30px-Flag_of_Japan.svg.png 1.5x, //upload.wikimedia.org/wikipedia/commons/thumb/9/9e/Flag_of_Japan.svg/40px-Flag_of_Japan.svg.png 2x\" width=\"20\"/></a></span> </span><a href=\"/wiki/Japon\" title=\"Japon\">Japon</a></span> (1)</td>\n",
      "<td><a href=\"/wiki/Asie\" title=\"Asie\">Asie</a> (1)\n",
      "</td></tr>, <tr bgcolor=\"#efefef\">\n",
      "<td>1968</td>\n",
      "<td align=\"center\"><a href=\"/wiki/Jeux_olympiques_d%27%C3%A9t%C3%A9_de_1968\" title=\"Jeux olympiques d'été de 1968\">XIX</a></td>\n",
      "<td><a href=\"/wiki/Mexico\" title=\"Mexico\">Mexico</a> (1)</td>\n",
      "<td><span class=\"datasortkey\" data-sort-value=\"Mexique\"><span class=\"flagicon\"><span class=\"mw-image-border noviewer\" typeof=\"mw:File\"><a class=\"mw-file-description\" href=\"/wiki/Fichier:Flag_of_Mexico.svg\" title=\"Drapeau du Mexique\"><img alt=\"Drapeau du Mexique\" class=\"mw-file-element\" data-file-height=\"560\" data-file-width=\"980\" decoding=\"async\" height=\"11\" src=\"//upload.wikimedia.org/wikipedia/commons/thumb/f/fc/Flag_of_Mexico.svg/20px-Flag_of_Mexico.svg.png\" srcset=\"//upload.wikimedia.org/wikipedia/commons/thumb/f/fc/Flag_of_Mexico.svg/30px-Flag_of_Mexico.svg.png 1.5x, //upload.wikimedia.org/wikipedia/commons/thumb/f/fc/Flag_of_Mexico.svg/40px-Flag_of_Mexico.svg.png 2x\" width=\"20\"/></a></span> </span><a href=\"/wiki/Mexique\" title=\"Mexique\">Mexique</a></span> (1)</td>\n",
      "<td><a href=\"/wiki/Am%C3%A9rique_du_Nord\" title=\"Amérique du Nord\">Amérique du Nord</a> (3)\n",
      "</td></tr>, <tr>\n",
      "<td>1972</td>\n",
      "<td align=\"center\"><a href=\"/wiki/Jeux_olympiques_d%27%C3%A9t%C3%A9_de_1972\" title=\"Jeux olympiques d'été de 1972\">XX</a></td>\n",
      "<td><a href=\"/wiki/Munich\" title=\"Munich\">Munich</a> (1)</td>\n",
      "<td><span class=\"datasortkey\" data-sort-value=\"Allemagne Ouest\"><span class=\"flagicon\"><span class=\"mw-image-border noviewer\" typeof=\"mw:File\"><a class=\"mw-file-description\" href=\"/wiki/Fichier:Flag_of_Germany.svg\" title=\"Allemagne de l'Ouest\"><img alt=\"Allemagne de l'Ouest\" class=\"mw-file-element\" data-file-height=\"600\" data-file-width=\"1000\" decoding=\"async\" height=\"12\" src=\"//upload.wikimedia.org/wikipedia/commons/thumb/b/ba/Flag_of_Germany.svg/20px-Flag_of_Germany.svg.png\" srcset=\"//upload.wikimedia.org/wikipedia/commons/thumb/b/ba/Flag_of_Germany.svg/30px-Flag_of_Germany.svg.png 1.5x, //upload.wikimedia.org/wikipedia/commons/thumb/b/ba/Flag_of_Germany.svg/40px-Flag_of_Germany.svg.png 2x\" width=\"20\"/></a></span> </span><a href=\"/wiki/Allemagne_de_l%27Ouest\" title=\"Allemagne de l'Ouest\">Allemagne de l'Ouest</a></span> (2)</td>\n",
      "<td><a href=\"/wiki/Europe\" title=\"Europe\">Europe</a> (12)\n",
      "</td></tr>, <tr bgcolor=\"#efefef\">\n",
      "<td>1976</td>\n",
      "<td align=\"center\"><a href=\"/wiki/Jeux_olympiques_d%27%C3%A9t%C3%A9_de_1976\" title=\"Jeux olympiques d'été de 1976\">XXI</a></td>\n",
      "<td><a href=\"/wiki/Montr%C3%A9al\" title=\"Montréal\">Montréal</a> (1)</td>\n",
      "<td><span class=\"datasortkey\" data-sort-value=\"Canada\"><span class=\"flagicon\"><span class=\"mw-image-border noviewer\" typeof=\"mw:File\"><a class=\"mw-file-description\" href=\"/wiki/Fichier:Flag_of_Canada.svg\" title=\"Drapeau du Canada\"><img alt=\"Drapeau du Canada\" class=\"mw-file-element\" data-file-height=\"600\" data-file-width=\"1200\" decoding=\"async\" height=\"10\" src=\"//upload.wikimedia.org/wikipedia/commons/thumb/c/cf/Flag_of_Canada.svg/20px-Flag_of_Canada.svg.png\" srcset=\"//upload.wikimedia.org/wikipedia/commons/thumb/c/cf/Flag_of_Canada.svg/30px-Flag_of_Canada.svg.png 1.5x, //upload.wikimedia.org/wikipedia/commons/thumb/c/cf/Flag_of_Canada.svg/40px-Flag_of_Canada.svg.png 2x\" width=\"20\"/></a></span> </span><a href=\"/wiki/Canada\" title=\"Canada\">Canada</a></span> (1)</td>\n",
      "<td><a href=\"/wiki/Am%C3%A9rique_du_Nord\" title=\"Amérique du Nord\">Amérique du Nord</a> (4)\n",
      "</td></tr>, <tr>\n",
      "<td>1980</td>\n",
      "<td align=\"center\"><a href=\"/wiki/Jeux_olympiques_d%27%C3%A9t%C3%A9_de_1980\" title=\"Jeux olympiques d'été de 1980\">XXII</a></td>\n",
      "<td><a href=\"/wiki/Moscou\" title=\"Moscou\">Moscou</a> (1)</td>\n",
      "<td><span class=\"datasortkey\" data-sort-value=\"Union soviétique\"><span class=\"flagicon\"><span class=\"mw-image-border noviewer\" typeof=\"mw:File\"><a class=\"mw-file-description\" href=\"/wiki/Fichier:Flag_of_the_Soviet_Union.svg\" title=\"Drapeau de l'URSS\"><img alt=\"Drapeau de l'URSS\" class=\"mw-file-element\" data-file-height=\"600\" data-file-width=\"1200\" decoding=\"async\" height=\"10\" src=\"//upload.wikimedia.org/wikipedia/commons/thumb/a/a9/Flag_of_the_Soviet_Union.svg/20px-Flag_of_the_Soviet_Union.svg.png\" srcset=\"//upload.wikimedia.org/wikipedia/commons/thumb/a/a9/Flag_of_the_Soviet_Union.svg/30px-Flag_of_the_Soviet_Union.svg.png 1.5x, //upload.wikimedia.org/wikipedia/commons/thumb/a/a9/Flag_of_the_Soviet_Union.svg/40px-Flag_of_the_Soviet_Union.svg.png 2x\" width=\"20\"/></a></span> </span><a href=\"/wiki/Union_des_r%C3%A9publiques_socialistes_sovi%C3%A9tiques\" title=\"Union des républiques socialistes soviétiques\">Union soviétique</a></span> (1)</td>\n",
      "<td><a href=\"/wiki/Europe\" title=\"Europe\">Europe</a> (13)\n",
      "</td></tr>, <tr bgcolor=\"#efefef\">\n",
      "<td>1984</td>\n",
      "<td align=\"center\"><a href=\"/wiki/Jeux_olympiques_d%27%C3%A9t%C3%A9_de_1984\" title=\"Jeux olympiques d'été de 1984\">XXIII</a></td>\n",
      "<td><a href=\"/wiki/Los_Angeles\" title=\"Los Angeles\">Los Angeles</a> (2)</td>\n",
      "<td><span class=\"nowrap\"><span class=\"datasortkey\" data-sort-value=\"États unis\"><span class=\"flagicon\"><span class=\"mw-image-border noviewer\" typeof=\"mw:File\"><a class=\"mw-file-description\" href=\"/wiki/Fichier:Flag_of_the_United_States.svg\" title=\"Drapeau des États-Unis\"><img alt=\"Drapeau des États-Unis\" class=\"mw-file-element\" data-file-height=\"650\" data-file-width=\"1235\" decoding=\"async\" height=\"11\" src=\"//upload.wikimedia.org/wikipedia/commons/thumb/a/a4/Flag_of_the_United_States.svg/20px-Flag_of_the_United_States.svg.png\" srcset=\"//upload.wikimedia.org/wikipedia/commons/thumb/a/a4/Flag_of_the_United_States.svg/30px-Flag_of_the_United_States.svg.png 1.5x, //upload.wikimedia.org/wikipedia/commons/thumb/a/a4/Flag_of_the_United_States.svg/40px-Flag_of_the_United_States.svg.png 2x\" width=\"20\"/></a></span> </span><a href=\"/wiki/%C3%89tats-Unis\" title=\"États-Unis\">États-Unis</a></span></span> (3)</td>\n",
      "<td><a href=\"/wiki/Am%C3%A9rique_du_Nord\" title=\"Amérique du Nord\">Amérique du Nord</a> (5)\n",
      "</td></tr>, <tr>\n",
      "<td>1988</td>\n",
      "<td align=\"center\"><a href=\"/wiki/Jeux_olympiques_d%27%C3%A9t%C3%A9_de_1988\" title=\"Jeux olympiques d'été de 1988\">XXIV</a></td>\n",
      "<td><a href=\"/wiki/S%C3%A9oul\" title=\"Séoul\">Séoul</a> (1)</td>\n",
      "<td><span class=\"datasortkey\" data-sort-value=\"Corée du Sud\"><span class=\"flagicon\"><span class=\"mw-image-border noviewer\" typeof=\"mw:File\"><a class=\"mw-file-description\" href=\"/wiki/Fichier:Flag_of_South_Korea.svg\" title=\"Drapeau de la Corée du Sud\"><img alt=\"Drapeau de la Corée du Sud\" class=\"mw-file-element\" data-file-height=\"600\" data-file-width=\"900\" decoding=\"async\" height=\"13\" src=\"//upload.wikimedia.org/wikipedia/commons/thumb/0/09/Flag_of_South_Korea.svg/20px-Flag_of_South_Korea.svg.png\" srcset=\"//upload.wikimedia.org/wikipedia/commons/thumb/0/09/Flag_of_South_Korea.svg/30px-Flag_of_South_Korea.svg.png 1.5x, //upload.wikimedia.org/wikipedia/commons/thumb/0/09/Flag_of_South_Korea.svg/40px-Flag_of_South_Korea.svg.png 2x\" width=\"20\"/></a></span> </span><a href=\"/wiki/Cor%C3%A9e_du_Sud\" title=\"Corée du Sud\">Corée du Sud</a></span> (1)</td>\n",
      "<td><a href=\"/wiki/Asie\" title=\"Asie\">Asie</a> (2)\n",
      "</td></tr>, <tr bgcolor=\"#efefef\">\n",
      "<td>1992</td>\n",
      "<td align=\"center\"><a href=\"/wiki/Jeux_olympiques_d%27%C3%A9t%C3%A9_de_1992\" title=\"Jeux olympiques d'été de 1992\">XXV</a></td>\n",
      "<td><a href=\"/wiki/Barcelone\" title=\"Barcelone\">Barcelone</a> (1)</td>\n",
      "<td><span class=\"datasortkey\" data-sort-value=\"Espagne\"><span class=\"flagicon\"><span class=\"mw-image-border noviewer\" typeof=\"mw:File\"><a class=\"mw-file-description\" href=\"/wiki/Fichier:Flag_of_Spain.svg\" title=\"Drapeau de l'Espagne\"><img alt=\"Drapeau de l'Espagne\" class=\"mw-file-element\" data-file-height=\"500\" data-file-width=\"750\" decoding=\"async\" height=\"13\" src=\"//upload.wikimedia.org/wikipedia/commons/thumb/9/9a/Flag_of_Spain.svg/20px-Flag_of_Spain.svg.png\" srcset=\"//upload.wikimedia.org/wikipedia/commons/thumb/9/9a/Flag_of_Spain.svg/30px-Flag_of_Spain.svg.png 1.5x, //upload.wikimedia.org/wikipedia/commons/thumb/9/9a/Flag_of_Spain.svg/40px-Flag_of_Spain.svg.png 2x\" width=\"20\"/></a></span> </span><a href=\"/wiki/Espagne\" title=\"Espagne\">Espagne</a></span> (1)</td>\n",
      "<td><a href=\"/wiki/Europe\" title=\"Europe\">Europe</a> (14)\n",
      "</td></tr>, <tr>\n",
      "<td>1996</td>\n",
      "<td align=\"center\"><a href=\"/wiki/Jeux_olympiques_d%27%C3%A9t%C3%A9_de_1996\" title=\"Jeux olympiques d'été de 1996\">XXVI</a></td>\n",
      "<td><a href=\"/wiki/Atlanta\" title=\"Atlanta\">Atlanta</a> (1)</td>\n",
      "<td><span class=\"nowrap\"><span class=\"datasortkey\" data-sort-value=\"États unis\"><span class=\"flagicon\"><span class=\"mw-image-border noviewer\" typeof=\"mw:File\"><a class=\"mw-file-description\" href=\"/wiki/Fichier:Flag_of_the_United_States.svg\" title=\"Drapeau des États-Unis\"><img alt=\"Drapeau des États-Unis\" class=\"mw-file-element\" data-file-height=\"650\" data-file-width=\"1235\" decoding=\"async\" height=\"11\" src=\"//upload.wikimedia.org/wikipedia/commons/thumb/a/a4/Flag_of_the_United_States.svg/20px-Flag_of_the_United_States.svg.png\" srcset=\"//upload.wikimedia.org/wikipedia/commons/thumb/a/a4/Flag_of_the_United_States.svg/30px-Flag_of_the_United_States.svg.png 1.5x, //upload.wikimedia.org/wikipedia/commons/thumb/a/a4/Flag_of_the_United_States.svg/40px-Flag_of_the_United_States.svg.png 2x\" width=\"20\"/></a></span> </span><a href=\"/wiki/%C3%89tats-Unis\" title=\"États-Unis\">États-Unis</a></span></span> (4)</td>\n",
      "<td><a href=\"/wiki/Am%C3%A9rique_du_Nord\" title=\"Amérique du Nord\">Amérique du Nord</a> (6)\n",
      "</td></tr>, <tr bgcolor=\"#efefef\">\n",
      "<td>2000</td>\n",
      "<td align=\"center\"><a href=\"/wiki/Jeux_olympiques_d%27%C3%A9t%C3%A9_de_2000\" title=\"Jeux olympiques d'été de 2000\">XXVII</a></td>\n",
      "<td><a href=\"/wiki/Sydney\" title=\"Sydney\">Sydney</a> (1)</td>\n",
      "<td><span class=\"datasortkey\" data-sort-value=\"Australie\"><span class=\"flagicon\"><span class=\"mw-image-border noviewer\" typeof=\"mw:File\"><a class=\"mw-file-description\" href=\"/wiki/Fichier:Flag_of_Australia.svg\" title=\"Drapeau de l'Australie\"><img alt=\"Drapeau de l'Australie\" class=\"mw-file-element\" data-file-height=\"640\" data-file-width=\"1280\" decoding=\"async\" height=\"10\" src=\"//upload.wikimedia.org/wikipedia/commons/thumb/b/b9/Flag_of_Australia.svg/20px-Flag_of_Australia.svg.png\" srcset=\"//upload.wikimedia.org/wikipedia/commons/thumb/b/b9/Flag_of_Australia.svg/30px-Flag_of_Australia.svg.png 1.5x, //upload.wikimedia.org/wikipedia/commons/thumb/b/b9/Flag_of_Australia.svg/40px-Flag_of_Australia.svg.png 2x\" width=\"20\"/></a></span> </span><a href=\"/wiki/Australie\" title=\"Australie\">Australie</a></span> (2)</td>\n",
      "<td><a href=\"/wiki/Oc%C3%A9anie\" title=\"Océanie\">Océanie</a> (2)\n",
      "</td></tr>, <tr>\n",
      "<td>2004</td>\n",
      "<td align=\"center\"><a href=\"/wiki/Jeux_olympiques_d%27%C3%A9t%C3%A9_de_2004\" title=\"Jeux olympiques d'été de 2004\">XXVIII</a></td>\n",
      "<td><a href=\"/wiki/Ath%C3%A8nes\" title=\"Athènes\">Athènes</a> (3)</td>\n",
      "<td><span class=\"datasortkey\" data-sort-value=\"Grece\"><span class=\"flagicon\"><span class=\"mw-image-border noviewer\" typeof=\"mw:File\"><a class=\"mw-file-description\" href=\"/wiki/Fichier:Flag_of_Greece.svg\" title=\"Drapeau de la Grèce\"><img alt=\"Drapeau de la Grèce\" class=\"mw-file-element\" data-file-height=\"400\" data-file-width=\"600\" decoding=\"async\" height=\"13\" src=\"//upload.wikimedia.org/wikipedia/commons/thumb/5/5c/Flag_of_Greece.svg/20px-Flag_of_Greece.svg.png\" srcset=\"//upload.wikimedia.org/wikipedia/commons/thumb/5/5c/Flag_of_Greece.svg/30px-Flag_of_Greece.svg.png 1.5x, //upload.wikimedia.org/wikipedia/commons/thumb/5/5c/Flag_of_Greece.svg/40px-Flag_of_Greece.svg.png 2x\" width=\"20\"/></a></span> </span><a href=\"/wiki/Gr%C3%A8ce\" title=\"Grèce\">Grèce</a></span> (3)</td>\n",
      "<td><a href=\"/wiki/Europe\" title=\"Europe\">Europe</a> (15)\n",
      "</td></tr>, <tr bgcolor=\"#efefef\">\n",
      "<td>2008</td>\n",
      "<td align=\"center\"><a href=\"/wiki/Jeux_olympiques_d%27%C3%A9t%C3%A9_de_2008\" title=\"Jeux olympiques d'été de 2008\">XXIX</a></td>\n",
      "<td><a href=\"/wiki/P%C3%A9kin\" title=\"Pékin\">Pékin</a> (1)</td>\n",
      "<td><span class=\"datasortkey\" data-sort-value=\"Chine\"><span class=\"flagicon\"><span class=\"mw-image-border noviewer\" typeof=\"mw:File\"><a class=\"mw-file-description\" href=\"/wiki/Fichier:Flag_of_the_People%27s_Republic_of_China.svg\" title=\"Drapeau de la République populaire de Chine\"><img alt=\"Drapeau de la République populaire de Chine\" class=\"mw-file-element\" data-file-height=\"600\" data-file-width=\"900\" decoding=\"async\" height=\"13\" src=\"//upload.wikimedia.org/wikipedia/commons/thumb/f/fa/Flag_of_the_People%27s_Republic_of_China.svg/20px-Flag_of_the_People%27s_Republic_of_China.svg.png\" srcset=\"//upload.wikimedia.org/wikipedia/commons/thumb/f/fa/Flag_of_the_People%27s_Republic_of_China.svg/30px-Flag_of_the_People%27s_Republic_of_China.svg.png 1.5x, //upload.wikimedia.org/wikipedia/commons/thumb/f/fa/Flag_of_the_People%27s_Republic_of_China.svg/40px-Flag_of_the_People%27s_Republic_of_China.svg.png 2x\" width=\"20\"/></a></span> </span><a href=\"/wiki/Chine\" title=\"Chine\">Chine</a></span> (1)</td>\n",
      "<td><a href=\"/wiki/Asie\" title=\"Asie\">Asie</a> (3)\n",
      "</td></tr>, <tr>\n",
      "<td>2012</td>\n",
      "<td align=\"center\"><a href=\"/wiki/Jeux_olympiques_d%27%C3%A9t%C3%A9_de_2012\" title=\"Jeux olympiques d'été de 2012\">XXX</a></td>\n",
      "<td><a href=\"/wiki/Londres\" title=\"Londres\">Londres</a> (3)</td>\n",
      "<td><span class=\"datasortkey\" data-sort-value=\"Royaume uni\"><span class=\"flagicon\"><span class=\"mw-image-border noviewer\" typeof=\"mw:File\"><a class=\"mw-file-description\" href=\"/wiki/Fichier:Flag_of_the_United_Kingdom_(3-5).svg\" title=\"Drapeau du Royaume-Uni\"><img alt=\"Drapeau du Royaume-Uni\" class=\"mw-file-element\" data-file-height=\"600\" data-file-width=\"1000\" decoding=\"async\" height=\"12\" src=\"//upload.wikimedia.org/wikipedia/commons/thumb/8/83/Flag_of_the_United_Kingdom_%283-5%29.svg/20px-Flag_of_the_United_Kingdom_%283-5%29.svg.png\" srcset=\"//upload.wikimedia.org/wikipedia/commons/thumb/8/83/Flag_of_the_United_Kingdom_%283-5%29.svg/30px-Flag_of_the_United_Kingdom_%283-5%29.svg.png 1.5x, //upload.wikimedia.org/wikipedia/commons/thumb/8/83/Flag_of_the_United_Kingdom_%283-5%29.svg/40px-Flag_of_the_United_Kingdom_%283-5%29.svg.png 2x\" width=\"20\"/></a></span> </span><a href=\"/wiki/Royaume-Uni\" title=\"Royaume-Uni\">Royaume-Uni</a></span> (3)</td>\n",
      "<td><a href=\"/wiki/Europe\" title=\"Europe\">Europe</a> (16)\n",
      "</td></tr>, <tr bgcolor=\"#efefef\">\n",
      "<td>2016</td>\n",
      "<td align=\"center\"><a href=\"/wiki/Jeux_olympiques_d%27%C3%A9t%C3%A9_de_2016\" title=\"Jeux olympiques d'été de 2016\">XXXI</a></td>\n",
      "<td><a href=\"/wiki/Rio_de_Janeiro\" title=\"Rio de Janeiro\">Rio de Janeiro</a> (1)</td>\n",
      "<td><span class=\"datasortkey\" data-sort-value=\"Bresil\"><span class=\"flagicon\"><span class=\"mw-image-border noviewer\" typeof=\"mw:File\"><a class=\"mw-file-description\" href=\"/wiki/Fichier:Flag_of_Brazil.svg\" title=\"Drapeau du Brésil\"><img alt=\"Drapeau du Brésil\" class=\"mw-file-element\" data-file-height=\"700\" data-file-width=\"1000\" decoding=\"async\" height=\"14\" src=\"//upload.wikimedia.org/wikipedia/commons/thumb/0/05/Flag_of_Brazil.svg/20px-Flag_of_Brazil.svg.png\" srcset=\"//upload.wikimedia.org/wikipedia/commons/thumb/0/05/Flag_of_Brazil.svg/30px-Flag_of_Brazil.svg.png 1.5x, //upload.wikimedia.org/wikipedia/commons/thumb/0/05/Flag_of_Brazil.svg/40px-Flag_of_Brazil.svg.png 2x\" width=\"20\"/></a></span> </span><a href=\"/wiki/Br%C3%A9sil\" title=\"Brésil\">Brésil</a></span> (1)</td>\n",
      "<td><a href=\"/wiki/Am%C3%A9rique_du_Sud\" title=\"Amérique du Sud\">Amérique du Sud</a> (1)\n",
      "</td></tr>, <tr>\n",
      "<td>2021</td>\n",
      "<td align=\"center\"><a href=\"/wiki/Jeux_olympiques_d%27%C3%A9t%C3%A9_de_2020\" title=\"Jeux olympiques d'été de 2020\">XXXII</a><sup class=\"reference\" id=\"cite_ref-30\"><a href=\"#cite_note-30\"><span class=\"cite_crochet\">[</span>NB 5<span class=\"cite_crochet\">]</span></a></sup></td>\n",
      "<td><a href=\"/wiki/Tokyo\" title=\"Tokyo\">Tokyo</a> (2)</td>\n",
      "<td><span class=\"datasortkey\" data-sort-value=\"Japon\"><span class=\"flagicon\"><span class=\"mw-image-border noviewer\" typeof=\"mw:File\"><a class=\"mw-file-description\" href=\"/wiki/Fichier:Flag_of_Japan.svg\" title=\"Drapeau du Japon\"><img alt=\"Drapeau du Japon\" class=\"mw-file-element\" data-file-height=\"600\" data-file-width=\"900\" decoding=\"async\" height=\"13\" src=\"//upload.wikimedia.org/wikipedia/commons/thumb/9/9e/Flag_of_Japan.svg/20px-Flag_of_Japan.svg.png\" srcset=\"//upload.wikimedia.org/wikipedia/commons/thumb/9/9e/Flag_of_Japan.svg/30px-Flag_of_Japan.svg.png 1.5x, //upload.wikimedia.org/wikipedia/commons/thumb/9/9e/Flag_of_Japan.svg/40px-Flag_of_Japan.svg.png 2x\" width=\"20\"/></a></span> </span><a href=\"/wiki/Japon\" title=\"Japon\">Japon</a></span> (2)</td>\n",
      "<td><a href=\"/wiki/Asie\" title=\"Asie\">Asie</a> (4)\n",
      "</td></tr>, <tr bgcolor=\"#efefef\">\n",
      "<td>2024</td>\n",
      "<td align=\"center\"><a href=\"/wiki/Jeux_olympiques_d%27%C3%A9t%C3%A9_de_2024\" title=\"Jeux olympiques d'été de 2024\">XXXIII</a></td>\n",
      "<td><a href=\"/wiki/Paris\" title=\"Paris\">Paris </a> (3)</td>\n",
      "<td><span class=\"datasortkey\" data-sort-value=\"France\"><span class=\"flagicon\"><span class=\"mw-image-border noviewer\" typeof=\"mw:File\"><a class=\"mw-file-description\" href=\"/wiki/Fichier:Flag_of_France_(1976%E2%80%932020).svg\" title=\"Drapeau de la France\"><img alt=\"Drapeau de la France\" class=\"mw-file-element\" data-file-height=\"600\" data-file-width=\"900\" decoding=\"async\" height=\"13\" src=\"//upload.wikimedia.org/wikipedia/commons/thumb/d/d1/Flag_of_France_%281976%E2%80%932020%29.svg/20px-Flag_of_France_%281976%E2%80%932020%29.svg.png\" srcset=\"//upload.wikimedia.org/wikipedia/commons/thumb/d/d1/Flag_of_France_%281976%E2%80%932020%29.svg/30px-Flag_of_France_%281976%E2%80%932020%29.svg.png 1.5x, //upload.wikimedia.org/wikipedia/commons/thumb/d/d1/Flag_of_France_%281976%E2%80%932020%29.svg/40px-Flag_of_France_%281976%E2%80%932020%29.svg.png 2x\" width=\"20\"/></a></span> </span><a href=\"/wiki/France\" title=\"France\">France</a></span> (3)</td>\n",
      "<td><a href=\"/wiki/Europe\" title=\"Europe\">Europe</a> (17)\n",
      "</td></tr>, <tr>\n",
      "<td>2028</td>\n",
      "<td align=\"center\"><a href=\"/wiki/Jeux_olympiques_d%27%C3%A9t%C3%A9_de_2028\" title=\"Jeux olympiques d'été de 2028\">XXXIV</a></td>\n",
      "<td><a href=\"/wiki/Los_Angeles\" title=\"Los Angeles\">Los Angeles</a> (3)</td>\n",
      "<td><span class=\"nowrap\"><span class=\"datasortkey\" data-sort-value=\"États unis\"><span class=\"flagicon\"><span class=\"mw-image-border noviewer\" typeof=\"mw:File\"><a class=\"mw-file-description\" href=\"/wiki/Fichier:Flag_of_the_United_States.svg\" title=\"Drapeau des États-Unis\"><img alt=\"Drapeau des États-Unis\" class=\"mw-file-element\" data-file-height=\"650\" data-file-width=\"1235\" decoding=\"async\" height=\"11\" src=\"//upload.wikimedia.org/wikipedia/commons/thumb/a/a4/Flag_of_the_United_States.svg/20px-Flag_of_the_United_States.svg.png\" srcset=\"//upload.wikimedia.org/wikipedia/commons/thumb/a/a4/Flag_of_the_United_States.svg/30px-Flag_of_the_United_States.svg.png 1.5x, //upload.wikimedia.org/wikipedia/commons/thumb/a/a4/Flag_of_the_United_States.svg/40px-Flag_of_the_United_States.svg.png 2x\" width=\"20\"/></a></span> </span><a href=\"/wiki/%C3%89tats-Unis\" title=\"États-Unis\">États-Unis</a></span></span> (5)</td>\n",
      "<td><a href=\"/wiki/Am%C3%A9rique_du_Nord\" title=\"Amérique du Nord\">Amérique du Nord</a> (7)\n",
      "</td></tr>, <tr bgcolor=\"#efefef\">\n",
      "<td>2032</td>\n",
      "<td align=\"center\"><a href=\"/wiki/Jeux_olympiques_d%27%C3%A9t%C3%A9_de_2032\" title=\"Jeux olympiques d'été de 2032\">XXXV</a></td>\n",
      "<td><a href=\"/wiki/Brisbane\" title=\"Brisbane\">Brisbane</a> (1)</td>\n",
      "<td><span class=\"datasortkey\" data-sort-value=\"Australie\"><span class=\"flagicon\"><span class=\"mw-image-border noviewer\" typeof=\"mw:File\"><a class=\"mw-file-description\" href=\"/wiki/Fichier:Flag_of_Australia.svg\" title=\"Drapeau de l'Australie\"><img alt=\"Drapeau de l'Australie\" class=\"mw-file-element\" data-file-height=\"640\" data-file-width=\"1280\" decoding=\"async\" height=\"10\" src=\"//upload.wikimedia.org/wikipedia/commons/thumb/b/b9/Flag_of_Australia.svg/20px-Flag_of_Australia.svg.png\" srcset=\"//upload.wikimedia.org/wikipedia/commons/thumb/b/b9/Flag_of_Australia.svg/30px-Flag_of_Australia.svg.png 1.5x, //upload.wikimedia.org/wikipedia/commons/thumb/b/b9/Flag_of_Australia.svg/40px-Flag_of_Australia.svg.png 2x\" width=\"20\"/></a></span> </span><a href=\"/wiki/Australie\" title=\"Australie\">Australie</a></span> (3)</td>\n",
      "<td><a href=\"/wiki/Oc%C3%A9anie\" title=\"Océanie\">Océanie</a> (3)\n",
      "</td></tr>, <tr bgcolor=\"#efefef\">\n",
      "<td>2036</td>\n",
      "<td align=\"center\"><a class=\"new\" href=\"/w/index.php?title=Jeux_olympiques_d%27%C3%A9t%C3%A9_de_2036&amp;action=edit&amp;redlink=1\" title=\"Jeux olympiques d'été de 2036 (page inexistante)\">XXXVI</a></td>\n",
      "<td align=\"center\" colspan=\"3\"><i>Lieu à déterminer</i>\n",
      "</td></tr>]\n"
     ]
    }
   ],
   "source": [
    "#[student]\n",
    "table = page.find(\"table\", class_ =\"wikitable center\")\n",
    "lignes = table.find_all(\"tr\") #c'est une liste \n",
    "print(lignes)\n",
    "    \n",
    "    \n"
   ]
  },
  {
   "cell_type": "code",
   "execution_count": null,
   "metadata": {},
   "outputs": [],
   "source": []
  },
  {
   "cell_type": "markdown",
   "metadata": {
    "id": "Qw6i-yLueZvG"
   },
   "source": [
    "## Exercice 2: Locate places on a map\n",
    "\n",
    "The objective here is to identify organizer cities on a map.\n",
    "You will have to code the following steps:\n",
    "* Collect the URL of each city\n",
    "* Go the this page using `urllib.request`\n",
    "* Find the coordinates\n",
    "* Store cities and coordinates in a data frame"
   ]
  },
  {
   "cell_type": "code",
   "execution_count": null,
   "metadata": {
    "id": "7xaYx79JMF_N"
   },
   "outputs": [],
   "source": [
    "#[student]\n"
   ]
  },
  {
   "cell_type": "markdown",
   "metadata": {
    "id": "4gqYroUff1UQ"
   },
   "source": [
    "We then transform degree coordinates into numerical coordinates to build a map\n"
   ]
  },
  {
   "cell_type": "code",
   "execution_count": null,
   "metadata": {
    "id": "SPkGBLnVWZWc"
   },
   "outputs": [],
   "source": [
    "import re\n",
    "\n",
    "def dms2dd(degrees, minutes, seconds, direction):\n",
    "    dd = float(degrees) + float(minutes)/60 + float(seconds)/(60*60);\n",
    "    if direction in ('S', 'O'):\n",
    "        dd *= -1\n",
    "    return dd\n",
    "\n",
    "def parse_dms(dms):\n",
    "    parts = re.split('[^\\d\\w]+', dms)\n",
    "    #potentially needs an adaptation\n",
    "    #[student]\n",
    "    lat = dms2dd(parts[0], parts[1], parts[2], parts[3])\n",
    "    #lng = dms2dd(parts[4], parts[5], parts[6], parts[7])\n",
    "    return lat\n",
    "\n",
    "data['latitude'] = data['latitude'].apply(parse_dms)\n",
    "#data['longitude'] = data['longitude'].apply(parse_dms)\n",
    "print(data)"
   ]
  },
  {
   "cell_type": "markdown",
   "metadata": {
    "id": "j3_3JmXggIEk"
   },
   "source": [
    "The map can be obtain with the following code"
   ]
  },
  {
   "cell_type": "code",
   "execution_count": null,
   "metadata": {
    "id": "93_lzZI3Wkpt"
   },
   "outputs": [],
   "source": [
    "import geopandas as gpd\n",
    "from pathlib import Path\n",
    "import folium\n",
    "from IPython.display import display\n",
    "\n",
    "gdf = gpd.GeoDataFrame(\n",
    "    data, geometry=gpd.points_from_xy(data.longitude, data.latitude))\n",
    "\n",
    "Path(\"leaflet\").mkdir(parents=True, exist_ok=True)\n",
    "\n",
    "center = gdf[['latitude', 'longitude']].mean().values.tolist()\n",
    "sw = gdf[['latitude', 'longitude']].min().values.tolist()\n",
    "ne = gdf[['latitude', 'longitude']].max().values.tolist()\n",
    "\n",
    "m = folium.Map(location = center, tiles='openstreetmap')\n",
    "\n",
    "# I can add marker one by one on the map\n",
    "for i in range(0,len(gdf)):\n",
    "    folium.Marker([gdf.iloc[i]['latitude'], gdf.iloc[i]['longitude']], popup=gdf.iloc[i]['name']).add_to(m)\n",
    "\n",
    "m.fit_bounds([sw, ne])\n",
    "display(m)"
   ]
  },
  {
   "cell_type": "markdown",
   "metadata": {
    "id": "BX4011aO3h4f"
   },
   "source": [
    "# Project\n",
    "\n",
    "The objective of this project is to practice all concepts taught in the main lecture. Therefore, you will have to collect data around a thematic, identify a problematic, clean and format the data, provide some exploratory analysis and visualization, build models and evaluate them. You will have also to design dashboard and to storytell the whole pipeline.\n",
    "\n",
    "\n",
    "The whole project will have two outputs describing the methodology and the results:\n",
    "* A technical report targeting your datascientist colleagues\n",
    "* An oral presentation targeting your CEO, chief, client. In this case, we assume that the audience is not specialized in data science. (But you also need to present the methodology to convince them to trust the results).\n",
    "\n",
    "\n",
    "**Requests:**\n",
    "* Team work of two people (same group throughout the semester)\n",
    "* All your work should be stored on a git repo: [tutorial](https://github.com/baskiotisn/2IN013robot2023/blob/d979333fb80c9b6acd9515aaec040943d10d365c/docs/tutoriel_git.pdf)\n",
    "\n",
    "**Remarks:**\n",
    "There are also other libraries or issues you'll encounter when collecting data. Some of these are listed below, but don't be shy and interact with a search engine to solve your own issue!\n",
    "* [Regular expressions](https://docs.python.org/3/howto/regex.html) might be useful!\n",
    "* [API with authentication](https://www.geeksforgeeks.org/authentication-using-python-requests/)\n",
    "*   [Selenium](https://selenium-python.readthedocs.io/) when pages are generated wia javascript scripts\n",
    "* [Playwright](https://playwright.dev/) --> looks easier and more adapted than Selenium\n",
    "* [Scrapy](https://scrapy.org/) for web crawling / or when you don't know the URL.[Tuto here](https://doc.scrapy.org/en/latest/intro/tutorial.html)\n",
    "* [Summary of some difficulties in scrapping data from the web](https://www.zenrows.com/blog/web-scraping-challenges#page-structure-changes)\n",
    "\n",
    "## Your daily task\n",
    "Collecting data from the web and open data portals. Open data might include csv files, you can use them, but be aware that scraping should be your main acitivity in the dataset gathering.\n",
    "You can begin to format the data, merge them to build dataframe that would be analyzed next week."
   ]
  }
 ],
 "metadata": {
  "colab": {
   "authorship_tag": "ABX9TyPvahhameLpU0ad1hSyiJJH",
   "provenance": []
  },
  "kernelspec": {
   "display_name": "Python 3 (ipykernel)",
   "language": "python",
   "name": "python3"
  },
  "language_info": {
   "codemirror_mode": {
    "name": "ipython",
    "version": 3
   },
   "file_extension": ".py",
   "mimetype": "text/x-python",
   "name": "python",
   "nbconvert_exporter": "python",
   "pygments_lexer": "ipython3",
   "version": "3.12.7"
  }
 },
 "nbformat": 4,
 "nbformat_minor": 4
}
